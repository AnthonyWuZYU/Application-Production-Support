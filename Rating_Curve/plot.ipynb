{
 "cells": [
  {
   "cell_type": "code",
   "execution_count": 13,
   "metadata": {},
   "outputs": [],
   "source": [
    "import pandas as pd\n",
    "import matplotlib.pyplot as plt\n",
    "import numpy as np"
   ]
  },
  {
   "cell_type": "code",
   "execution_count": 16,
   "metadata": {},
   "outputs": [],
   "source": [
    "Rating_curve = pd.read_csv ('/Users/shg096/Desktop/Rating_Curve.csv')\n",
    "measurment   = pd.read_csv ('/Users/shg096/Desktop/Field_Observation.csv')\n",
    "target_gauge = '05CK004';\n",
    "Rating_curve = Rating_curve [Rating_curve['Station_Id']==target_gauge]\n",
    "measurment   = measurment   [measurment  ['Station_Id']==target_gauge]"
   ]
  },
  {
   "cell_type": "code",
   "execution_count": 22,
   "metadata": {},
   "outputs": [
    {
     "data": {
      "text/plain": [
       "Text(0.5, 1.0, 'RED DEER RIVER NEAR BINDLOSS; 05CK004')"
      ]
     },
     "execution_count": 22,
     "metadata": {},
     "output_type": "execute_result"
    },
    {
     "data": {
      "image/png": "\n",
      "text/plain": [
       "<Figure size 1440x720 with 1 Axes>"
      ]
     },
     "metadata": {
      "needs_background": "light"
     },
     "output_type": "display_data"
    }
   ],
   "source": [
    "# plot\n",
    "\n",
    "plt.figure(figsize=(20,10))\n",
    "\n",
    "plt.xticks(fontsize=30)\n",
    "plt.yticks(fontsize=30)\n",
    "plt.grid()\n",
    "\n",
    "plt.scatter(Rating_curve['InputValue'], Rating_curve['OutputValue'], label='Rating Curve')\n",
    "\n",
    "plt.scatter(measurment['MeanGageHeight'], measurment['Discharge'], label = 'Field Observation')\n",
    "\n",
    "plt.legend(loc= 2,prop={'size': 30})\n",
    "\n",
    "plt.xlim(1, 4.5)\n",
    "\n",
    "plt.xlabel('Elevation [m]',  fontsize=30)\n",
    "plt.ylabel('Discharge [cms]',fontsize=30)\n",
    "\n",
    "plt.title (Rating_curve['locationName'].iloc[0]+'; '+ target_gauge , size= 30)\n",
    "\n",
    "# plt.savefig ('/Users/shg096/Desktop/Rating_Curve_vs_Measurement_Bow_Banff_05BB001.png')\n"
   ]
  },
  {
   "cell_type": "code",
   "execution_count": null,
   "metadata": {},
   "outputs": [],
   "source": []
  }
 ],
 "metadata": {
  "kernelspec": {
   "display_name": "Python 3",
   "language": "python",
   "name": "python3"
  },
  "language_info": {
   "codemirror_mode": {
    "name": "ipython",
    "version": 3
   },
   "file_extension": ".py",
   "mimetype": "text/x-python",
   "name": "python",
   "nbconvert_exporter": "python",
   "pygments_lexer": "ipython3",
   "version": "3.7.6"
  }
 },
 "nbformat": 4,
 "nbformat_minor": 4
}
